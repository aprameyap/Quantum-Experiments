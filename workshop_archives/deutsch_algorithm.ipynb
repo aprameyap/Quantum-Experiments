{
  "nbformat": 4,
  "nbformat_minor": 0,
  "metadata": {
    "colab": {
      "provenance": [],
      "authorship_tag": "ABX9TyP91RuMr9+JX/lq7agfem4t",
      "include_colab_link": true
    },
    "kernelspec": {
      "name": "python3",
      "display_name": "Python 3"
    },
    "language_info": {
      "name": "python"
    }
  },
  "cells": [
    {
      "cell_type": "markdown",
      "metadata": {
        "id": "view-in-github",
        "colab_type": "text"
      },
      "source": [
        "<a href=\"https://colab.research.google.com/github/aprameyap/Quantum-Half-Adder/blob/main/deutsch_algorithm.ipynb\" target=\"_parent\"><img src=\"https://colab.research.google.com/assets/colab-badge.svg\" alt=\"Open In Colab\"/></a>"
      ]
    },
    {
      "cell_type": "code",
      "source": [
        "!pip install qiskit\n",
        "!pip install qiskit-aer"
      ],
      "metadata": {
        "colab": {
          "base_uri": "https://localhost:8080/"
        },
        "id": "Bm2SArdyqfh4",
        "outputId": "403a8eb5-9574-4388-97a6-722bc5f0bce4"
      },
      "execution_count": 4,
      "outputs": [
        {
          "output_type": "stream",
          "name": "stdout",
          "text": [
          ]
        }
      ]
    },
    {
      "cell_type": "code",
      "execution_count": 15,
      "metadata": {
        "colab": {
          "base_uri": "https://localhost:8080/",
          "height": 327
        },
        "id": "oxdxnsizqeDn",
        "outputId": "cb60e2e8-6fb8-49f4-ad64-a8f10f2da06d"
      },
      "outputs": [
        {
          "name": "stdout",
          "output_type": "stream",
          "text": [
            "Flag = ? (0 or 1) : 1\n"
          ]
        },
        {
          "output_type": "execute_result",
          "data": {
            "text/plain": [
              "     ┌───┐┌───┐┌───┐┌─┐\n",
              "q_0: ┤ H ├┤ Z ├┤ H ├┤M├\n",
              "     ├───┤├───┤└───┘└╥┘\n",
              "q_1: ┤ H ├┤ Z ├──────╫─\n",
              "     ├───┤├───┤      ║ \n",
              "q_2: ┤ H ├┤ Z ├──────╫─\n",
              "     ├───┤├───┤      ║ \n",
              "q_3: ┤ H ├┤ Z ├──────╫─\n",
              "     ├───┤├───┤      ║ \n",
              "q_4: ┤ H ├┤ Z ├──────╫─\n",
              "     ├───┤├───┤      ║ \n",
              "q_5: ┤ H ├┤ Z ├──────╫─\n",
              "     ├───┤├───┤      ║ \n",
              "q_6: ┤ H ├┤ Z ├──────╫─\n",
              "     ├───┤├───┤┌───┐ ║ \n",
              "q_7: ┤ X ├┤ H ├┤ Z ├─╫─\n",
              "     └───┘└───┘└───┘ ║ \n",
              "c: 1/════════════════╩═\n",
              "                     0 "
            ],
            "text/html": [
              "<pre style=\"word-wrap: normal;white-space: pre;background: #fff0;line-height: 1.1;font-family: &quot;Courier New&quot;,Courier,monospace\">     ┌───┐┌───┐┌───┐┌─┐\n",
              "q_0: ┤ H ├┤ Z ├┤ H ├┤M├\n",
              "     ├───┤├───┤└───┘└╥┘\n",
              "q_1: ┤ H ├┤ Z ├──────╫─\n",
              "     ├───┤├───┤      ║ \n",
              "q_2: ┤ H ├┤ Z ├──────╫─\n",
              "     ├───┤├───┤      ║ \n",
              "q_3: ┤ H ├┤ Z ├──────╫─\n",
              "     ├───┤├───┤      ║ \n",
              "q_4: ┤ H ├┤ Z ├──────╫─\n",
              "     ├───┤├───┤      ║ \n",
              "q_5: ┤ H ├┤ Z ├──────╫─\n",
              "     ├───┤├───┤      ║ \n",
              "q_6: ┤ H ├┤ Z ├──────╫─\n",
              "     ├───┤├───┤┌───┐ ║ \n",
              "q_7: ┤ X ├┤ H ├┤ Z ├─╫─\n",
              "     └───┘└───┘└───┘ ║ \n",
              "c: 1/════════════════╩═\n",
              "                     0 </pre>"
            ]
          },
          "metadata": {},
          "execution_count": 15
        }
      ],
      "source": [
        "from qiskit import *\n",
        "from qiskit.visualization import plot_histogram\n",
        "\n",
        "def deutsch_algorithm(n, oracle):\n",
        "    qc = QuantumCircuit(n, 1)\n",
        "    qc.x(n-1)\n",
        "    qc.h(range(n))\n",
        "    qc.compose(oracle, range(n), inplace=True)\n",
        "    qc.h(0)\n",
        "    qc.measure(0,0)\n",
        "    return qc\n",
        "\n",
        "def deutsch_oracle(n, flag):\n",
        "    oracle = QuantumCircuit(n, name = 'Deutsch Oracle')\n",
        "    if flag == 1:\n",
        "        oracle.z(range(n))\n",
        "    return oracle\n",
        "\n",
        "flag = int(input(\"Flag = ? (0 or 1) : \"))\n",
        "\n",
        "qc = deutsch_algorithm(8, deutsch_oracle(8, flag))\n",
        "\n",
        "simulator = Aer.get_backend('qasm_simulator')\n",
        "counts = execute(qc, simulator, shots=5196).result().get_counts()\n",
        "\n",
        "qc.draw()"
      ]
    },
    {
      "cell_type": "code",
      "source": [
        "print(counts)\n",
        "plot_histogram(counts)"
      ],
      "metadata": {
        "colab": {
          "base_uri": "https://localhost:8080/",
          "height": 467
        },
        "id": "h7JAgCJMrRet",
        "outputId": "c5399ce1-69df-4efb-c540-790bf57b0b2f"
      },
      "execution_count": 16,
      "outputs": [
        {
          "output_type": "stream",
          "name": "stdout",
          "text": [
            "{'1': 5196}\n"
          ]
        },
        {
          "output_type": "execute_result",
          "data": {
            "text/plain": [
              "<Figure size 700x500 with 1 Axes>"
            ],
            "image/png": "[encoded data removed]"
          },
          "metadata": {},
          "execution_count": 16
        }
      ]
    }
  ]
}
