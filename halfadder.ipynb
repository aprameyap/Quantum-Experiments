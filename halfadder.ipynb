{
  "nbformat": 4,
  "nbformat_minor": 0,
  "metadata": {
    "colab": {
      "provenance": []
    },
    "kernelspec": {
      "name": "python3",
      "display_name": "Python 3"
    },
    "language_info": {
      "name": "python"
    }
  },
  "cells": [
    {
      "cell_type": "code",
      "execution_count": 1,
      "metadata": {
        "colab": {
          "base_uri": "https://localhost:8080/"
        },
        "id": "TGVUcSHPggCr",
        "outputId": "c0a86cbf-0ac0-465f-b05f-5dd84b002ad2"
      },
      "outputs": [
        {
          "output_type": "stream",
          "name": "stdout",
          "text": [
          ]
        }
      ],
      "source": [
        "!pip install qiskit\n",
        "!pip install qiskit-aer"
      ]
    },
    {
      "cell_type": "code",
      "source": [
        "from qiskit import *\n",
        "import matplotlib.pyplot as plt\n",
        "%matplotlib inline\n",
        "from qiskit.visualization import plot_histogram"
      ],
      "metadata": {
        "id": "g1w8KP45g7ks"
      },
      "execution_count": 2,
      "outputs": []
    },
    {
      "cell_type": "code",
      "source": [
        "#Encode inputs in qubits 0, 1\n",
        "qc = QuantumCircuit(4, 2)\n",
        "qc.x(0)\n",
        "qc.x(1)"
      ],
      "metadata": {
        "id": "63if1dv-uXZH",
        "colab": {
          "base_uri": "https://localhost:8080/"
        },
        "outputId": "4599da83-baf2-4f31-9798-7a5d80640701"
      },
      "execution_count": 3,
      "outputs": [
        {
          "output_type": "execute_result",
          "data": {
            "text/plain": [
              "<qiskit.circuit.instructionset.InstructionSet at 0x7d737197fb50>"
            ]
          },
          "metadata": {},
          "execution_count": 3
        }
      ]
    },
    {
      "cell_type": "code",
      "source": [
        "#Using CNOT to write XOR of inputs on qubit 2\n",
        "qc.cx(0,2)\n",
        "qc.cx(1,2)"
      ],
      "metadata": {
        "colab": {
          "base_uri": "https://localhost:8080/"
        },
        "id": "VbGg_IlJxEp4",
        "outputId": "76274f88-69f8-401c-9344-9fefe74d2f09"
      },
      "execution_count": 4,
      "outputs": [
        {
          "output_type": "execute_result",
          "data": {
            "text/plain": [
              "<qiskit.circuit.instructionset.InstructionSet at 0x7d7370e96530>"
            ]
          },
          "metadata": {},
          "execution_count": 4
        }
      ]
    },
    {
      "cell_type": "code",
      "source": [
        "#Extracting outputs\n",
        "qc.measure(2,0)\n",
        "qc.measure(3,1)\n",
        "\n",
        "qc.draw()"
      ],
      "metadata": {
        "colab": {
          "base_uri": "https://localhost:8080/",
          "height": 186
        },
        "id": "jt-wgyCNksGX",
        "outputId": "325637a4-8717-4f33-e72c-bf81207c45db"
      },
      "execution_count": 6,
      "outputs": [
        {
          "output_type": "execute_result",
          "data": {
            "text/plain": [
              "     ┌───┐                \n",
              "q_0: ┤ X ├──■─────────────\n",
              "     ├───┤  │             \n",
              "q_1: ┤ X ├──┼────■────────\n",
              "     └───┘┌─┴─┐┌─┴─┐┌─┐┌─┐\n",
              "q_2: ─────┤ X ├┤ X ├┤M├┤M├\n",
              "      ┌─┐ └┬─┬┘└───┘└╥┘└╥┘\n",
              "q_3: ─┤M├──┤M├───────╫──╫─\n",
              "      └╥┘  └╥┘       ║  ║ \n",
              "c: 2/══╩════╩════════╩══╩═\n",
              "       1    1        0  0 "
            ],
            "text/html": [
              "<pre style=\"word-wrap: normal;white-space: pre;background: #fff0;line-height: 1.1;font-family: &quot;Courier New&quot;,Courier,monospace\">     ┌───┐                \n",
              "q_0: ┤ X ├──■─────────────\n",
              "     ├───┤  │             \n",
              "q_1: ┤ X ├──┼────■────────\n",
              "     └───┘┌─┴─┐┌─┴─┐┌─┐┌─┐\n",
              "q_2: ─────┤ X ├┤ X ├┤M├┤M├\n",
              "      ┌─┐ └┬─┬┘└───┘└╥┘└╥┘\n",
              "q_3: ─┤M├──┤M├───────╫──╫─\n",
              "      └╥┘  └╥┘       ║  ║ \n",
              "c: 2/══╩════╩════════╩══╩═\n",
              "       1    1        0  0 </pre>"
            ]
          },
          "metadata": {},
          "execution_count": 6
        }
      ]
    },
    {
      "cell_type": "code",
      "source": [
        "qc = QuantumCircuit(4,2)\n",
        "\n",
        "qc.x(0)\n",
        "qc.x(1)\n",
        "\n",
        "qc.cx(0,2)\n",
        "qc.cx(1,2)\n",
        "\n",
        "qc.ccx(0,1,3)\n",
        "\n",
        "qc.measure(2,0)\n",
        "qc.measure(3,1)\n",
        "\n",
        "qc.draw()"
      ],
      "metadata": {
        "colab": {
          "base_uri": "https://localhost:8080/",
          "height": 186
        },
        "id": "YAVRsHCLlBVK",
        "outputId": "51fefadf-2ba9-4c6c-8227-982a0230b882"
      },
      "execution_count": 7,
      "outputs": [
        {
          "output_type": "execute_result",
          "data": {
            "text/plain": [
              "     ┌───┐                     \n",
              "q_0: ┤ X ├──■─────────■────────\n",
              "     ├───┤  │         │        \n",
              "q_1: ┤ X ├──┼────■────■────────\n",
              "     └───┘┌─┴─┐┌─┴─┐  │  ┌─┐   \n",
              "q_2: ─────┤ X ├┤ X ├──┼──┤M├───\n",
              "          └───┘└───┘┌─┴─┐└╥┘┌─┐\n",
              "q_3: ───────────────┤ X ├─╫─┤M├\n",
              "                    └───┘ ║ └╥┘\n",
              "c: 2/═════════════════════╩══╩═\n",
              "                          0  1 "
            ],
            "text/html": [
              "<pre style=\"word-wrap: normal;white-space: pre;background: #fff0;line-height: 1.1;font-family: &quot;Courier New&quot;,Courier,monospace\">     ┌───┐                     \n",
              "q_0: ┤ X ├──■─────────■────────\n",
              "     ├───┤  │         │        \n",
              "q_1: ┤ X ├──┼────■────■────────\n",
              "     └───┘┌─┴─┐┌─┴─┐  │  ┌─┐   \n",
              "q_2: ─────┤ X ├┤ X ├──┼──┤M├───\n",
              "          └───┘└───┘┌─┴─┐└╥┘┌─┐\n",
              "q_3: ───────────────┤ X ├─╫─┤M├\n",
              "                    └───┘ ║ └╥┘\n",
              "c: 2/═════════════════════╩══╩═\n",
              "                          0  1 </pre>"
            ]
          },
          "metadata": {},
          "execution_count": 7
        }
      ]
    },
    {
      "cell_type": "code",
      "source": [
        "#Running on a quantum simulator\n",
        "counts = execute(qc,Aer.get_backend('qasm_simulator')).result().get_counts()\n",
        "plot_histogram(counts)"
      ],
      "metadata": {
        "colab": {
          "base_uri": "https://localhost:8080/",
          "height": 461
        },
        "id": "aTL8-8PFldAg",
        "outputId": "72bcaab7-b3dd-4283-fb5f-3bd639f52c7d"
      },
      "execution_count": 8,
      "outputs": [
        {
          "output_type": "execute_result",
          "data": {
            "text/plain": [
              "<Figure size 700x500 with 1 Axes>"
            ],
            "image/png": "[encoded data removed]"
          },
          "metadata": {},
          "execution_count": 8
        }
      ]
    }
  ]
}
